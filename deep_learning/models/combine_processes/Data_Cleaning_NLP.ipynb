{
 "cells": [
  {
   "cell_type": "code",
   "execution_count": 1,
   "metadata": {},
   "outputs": [],
   "source": [
    "import warnings\n",
    "import collections\n",
    "import os\n",
    "import pandas as pd # manage data\n",
    "import pickle as pk # load and save python objects\n",
    "import numpy as np # matrix operations\n",
    "import matplotlib.pyplot as plt\n",
    "import unidecode # Deal with codifications\n",
    "import regex # use regular expresions\n",
    "from email.header import Header, decode_header # e-mails helper functions\n",
    "from nltk.tokenize import word_tokenize # Natural Language Toolkit\n",
    "from selectolax.parser import HTMLParser # Optimized html library\n",
    "from tqdm import tqdm # For loops decorator"
   ]
  },
  {
   "cell_type": "code",
   "execution_count": 2,
   "metadata": {},
   "outputs": [],
   "source": [
    "warnings.filterwarnings('ignore')"
   ]
  },
  {
   "cell_type": "code",
   "execution_count": 3,
   "metadata": {},
   "outputs": [],
   "source": [
    "%matplotlib inline"
   ]
  },
  {
   "cell_type": "code",
   "execution_count": 4,
   "metadata": {},
   "outputs": [],
   "source": [
    "# Helper functions\n",
    "def get_text_from _html(html):\n",
    "    '''\n",
    "    Extracted from https://rushter.com/blog/python-fast-html-parser/ to eliminate html tags from email body\n",
    "    \n",
    "    Parameters\n",
    "    html: html file\n",
    "    Return\n",
    "    text: html text content\n",
    "    '''\n",
    "    tree = HTMLParser(html)\n",
    "\n",
    "    if tree.body is None:\n",
    "        return html\n",
    "\n",
    "    for tag in tree.css('script'):\n",
    "        tag.decompose()\n",
    "    for tag in tree.css('style'):\n",
    "        tag.decompose()\n",
    "\n",
    "    text = unidecode.unidecode(tree.body.text(separator=' '))\n",
    "    \n",
    "    return text\n",
    "\n",
    "def clean_mail_subject(mail_header):\n",
    "    '''\n",
    "    Clean mail subject\n",
    "    Parameters\n",
    "    mail_header: email.Header object or string or None.\n",
    "    Return\n",
    "    decoded_header: string containing mail subject\n",
    "    '''\n",
    "    \n",
    "    if type(mail_header) == Header:\n",
    "        decoded_header = decode_header(mail_header.encode())[0][0].decode('utf-8')\n",
    "    else:\n",
    "        decoded_header = mail_header\n",
    "        \n",
    "    if decoded_header[:5] == 'Fwd: ':\n",
    "        decoded_header = decoded_header[5:]\n",
    "    elif decoded_header[:4] == 'Re: ':\n",
    "        decoded_header = decoded_header[4:]\n",
    "        \n",
    "    decoded_header = re.sub(r\"[^a-zA-Z?.!,¿]+\", \" \", decoded_header)\n",
    "        \n",
    "    return decoded_header\n",
    "\n",
    "def clean_mail_body(str_):\n",
    "    '''Clean mail body'''\n",
    "    str_ = str_.replace('\\t', '')\n",
    "    new_str = regex.split(r'(\\bEl \\d{1,2} de [a-z]+ de 2\\d{3},)', str_)[0]\n",
    "    new_str = regex.split(r'(\\bOn \\d{1,2} de [a-z]+. de 2\\d{3},)', new_str)[0]\n",
    "    \n",
    "    if len(new_str) > 0:\n",
    "        return new_str\n",
    "    else:\n",
    "        return str_\n",
    "    \n",
    "def filter_firm(str_):\n",
    "    '''Clean mail firm'''\n",
    "    new_str = regex.split(r'(Adela C. Santillana Figueroa)|(Claudia Alarcon Burga)|(Miguel Koch Zavaleta)|(Rocio Villavicencio Ripas)|(Maria Alejandra Alba S.)|(Fiorella.)|(Fiorella Romero Cardenas)|(Directora de Servicios Academicos y Registro)|(Asistente Administrativ[a|o])|(Servicios Academicos y Registro)|(FORMAMOS LIDERES RESPONSABLES PARA EL MUNDO)|(up.edu.pe)|(Jr. Sanchez Cerro 2141 Jesus Maria, Lima 11)|(T.  511-219-0100 Ext. [0-9]{4})|([a-zA-z0-9-.]+@up.edu.pe)|(Pensemos en el AMBIENTE antes de imprimir este mensaje)', str_)[0]\n",
    "    \n",
    "    if len(new_str) > 0:\n",
    "        return new_str\n",
    "    else:\n",
    "        return str_"
   ]
  },
  {
   "cell_type": "code",
   "execution_count": 5,
   "metadata": {},
   "outputs": [],
   "source": [
    "# # Define output dir\n",
    "# outDir = 'output/'\n",
    "# actualDir = 'data_cleaning_nlp'\n",
    "\n",
    "# print()\n",
    "# if not(actualDir in os.listdir(outDir)):\n",
    "#     os.mkdir(os.path.join(outDir, actualDir))\n",
    "#     print('output dir created')\n",
    "# else:\n",
    "#     print('output dir already created')\n",
    "# print()"
   ]
  },
  {
   "cell_type": "code",
   "execution_count": 6,
   "metadata": {},
   "outputs": [],
   "source": [
    "ROOT = \"~/Documents/TF_chatbot\""
   ]
  },
  {
   "cell_type": "code",
   "execution_count": 25,
   "metadata": {},
   "outputs": [],
   "source": [
    "input_file = \"../../../text_data/mails.txt\"\n",
    "\n",
    "with open(input_file, \"r\") as input_f:\n",
    "    for lines in input_f:\n",
    "        s = lines.readline()\n",
    "#     for mail in mails:\n",
    "#         for item in mail:\n",
    "#             output.write(str(item) + '\\t')\n",
    "#         output.write('\\n')"
   ]
  },
  {
   "cell_type": "code",
   "execution_count": 26,
   "metadata": {},
   "outputs": [
    {
     "data": {
      "text/plain": [
       "''"
      ]
     },
     "execution_count": 26,
     "metadata": {},
     "output_type": "execute_result"
    }
   ],
   "source": [
    "s"
   ]
  },
  {
   "cell_type": "code",
   "execution_count": 15,
   "metadata": {},
   "outputs": [
    {
     "ename": "EOFError",
     "evalue": "Ran out of input",
     "output_type": "error",
     "traceback": [
      "\u001b[0;31m---------------------------------------------------------------------------\u001b[0m",
      "\u001b[0;31mEOFError\u001b[0m                                  Traceback (most recent call last)",
      "\u001b[0;32m<ipython-input-15-45210745e388>\u001b[0m in \u001b[0;36m<module>\u001b[0;34m\u001b[0m\n\u001b[1;32m      1\u001b[0m \u001b[0;31m# Load complete email data\u001b[0m\u001b[0;34m\u001b[0m\u001b[0;34m\u001b[0m\u001b[0;34m\u001b[0m\u001b[0m\n\u001b[0;32m----> 2\u001b[0;31m \u001b[0mmails\u001b[0m \u001b[0;34m=\u001b[0m \u001b[0mpk\u001b[0m\u001b[0;34m.\u001b[0m\u001b[0mload\u001b[0m\u001b[0;34m(\u001b[0m\u001b[0mopen\u001b[0m\u001b[0;34m(\u001b[0m\u001b[0;34m\"../../../text_data/mails.txt\"\u001b[0m\u001b[0;34m,\u001b[0m \u001b[0;34m'rb'\u001b[0m\u001b[0;34m)\u001b[0m\u001b[0;34m)\u001b[0m\u001b[0;34m\u001b[0m\u001b[0;34m\u001b[0m\u001b[0m\n\u001b[0m\u001b[1;32m      3\u001b[0m \u001b[0mdf\u001b[0m \u001b[0;34m=\u001b[0m \u001b[0mpd\u001b[0m\u001b[0;34m.\u001b[0m\u001b[0mDataFrame\u001b[0m\u001b[0;34m(\u001b[0m\u001b[0mmails\u001b[0m\u001b[0;34m,\u001b[0m \u001b[0mcolumns\u001b[0m\u001b[0;34m=\u001b[0m\u001b[0;34m[\u001b[0m\u001b[0;34m'id'\u001b[0m\u001b[0;34m,\u001b[0m\u001b[0;34m'subject'\u001b[0m\u001b[0;34m,\u001b[0m\u001b[0;34m'date'\u001b[0m\u001b[0;34m,\u001b[0m\u001b[0;34m'sender'\u001b[0m\u001b[0;34m,\u001b[0m\u001b[0;34m'recipient'\u001b[0m\u001b[0;34m,\u001b[0m\u001b[0;34m'body'\u001b[0m\u001b[0;34m]\u001b[0m\u001b[0;34m)\u001b[0m\u001b[0;34m\u001b[0m\u001b[0;34m\u001b[0m\u001b[0m\n",
      "\u001b[0;31mEOFError\u001b[0m: Ran out of input"
     ]
    }
   ],
   "source": [
    "# Load complete email data\n",
    "mails = pk.load(open(\"../../../text_data/mails.txt\", 'rb'))\n",
    "df = pd.DataFrame(mails, columns=['id','subject','date','sender','recipient','body'])"
   ]
  },
  {
   "cell_type": "code",
   "execution_count": 127,
   "metadata": {
    "scrolled": false
   },
   "outputs": [
    {
     "name": "stdout",
     "output_type": "stream",
     "text": [
      "<class 'pandas.core.frame.DataFrame'>\n",
      "RangeIndex: 107484 entries, 0 to 107483\n",
      "Data columns (total 6 columns):\n",
      "id           107484 non-null object\n",
      "subject      107384 non-null object\n",
      "date         107484 non-null object\n",
      "sender       107484 non-null object\n",
      "recipient    107339 non-null object\n",
      "body         107484 non-null object\n",
      "dtypes: object(6)\n",
      "memory usage: 4.9+ MB\n"
     ]
    }
   ],
   "source": [
    "df.info()"
   ]
  },
  {
   "cell_type": "code",
   "execution_count": 128,
   "metadata": {
    "scrolled": true
   },
   "outputs": [
    {
     "name": "stdout",
     "output_type": "stream",
     "text": [
      "\n",
      "id             0\n",
      "subject      100\n",
      "date           0\n",
      "sender         0\n",
      "recipient    145\n",
      "body           0\n",
      "dtype: int64\n",
      "\n"
     ]
    }
   ],
   "source": [
    "print()\n",
    "print(df.isna().sum())\n",
    "print()"
   ]
  },
  {
   "cell_type": "code",
   "execution_count": 129,
   "metadata": {},
   "outputs": [],
   "source": [
    "df['date'] = pd.to_datetime(df['date'], infer_datetime_format=True) # transform dates to datetime format"
   ]
  },
  {
   "cell_type": "code",
   "execution_count": 130,
   "metadata": {},
   "outputs": [
    {
     "data": {
      "text/plain": [
       "count                  107484\n",
       "unique                 104474\n",
       "top       2018-02-28 21:04:25\n",
       "freq                      137\n",
       "first     2015-05-06 19:18:58\n",
       "last      2018-08-23 22:57:16\n",
       "Name: date, dtype: object"
      ]
     },
     "execution_count": 130,
     "metadata": {},
     "output_type": "execute_result"
    }
   ],
   "source": [
    "df['date'].describe()"
   ]
  },
  {
   "cell_type": "markdown",
   "metadata": {},
   "source": [
    "#### Periodo de los datos: 6 ciclos y medio (+ 3 ciclos-0)"
   ]
  },
  {
   "cell_type": "code",
   "execution_count": 131,
   "metadata": {
    "scrolled": false
   },
   "outputs": [
    {
     "data": {
      "image/png": "[encoded data removed]",
      "text/plain": [
       "<Figure size 720x360 with 1 Axes>"
      ]
     },
     "metadata": {
      "needs_background": "light"
     },
     "output_type": "display_data"
    }
   ],
   "source": [
    "df['date'].hist(bins=51, figsize=(10,5))\n",
    "plt.xlim(df['date'].min(), df['date'].max())\n",
    "plt.title('Histograma de la Fecha de Envío del Mensaje')\n",
    "plt.ylabel('Número de Mensajes')\n",
    "plt.xlabel('Año-Mes')\n",
    "plt.show()\n",
    "#plt.savefig('hist_fecha.svg', format='svg')"
   ]
  },
  {
   "cell_type": "code",
   "execution_count": 132,
   "metadata": {},
   "outputs": [
    {
     "data": {
      "image/png": "[encoded data removed]",
      "text/plain": [
       "<Figure size 720x720 with 2 Axes>"
      ]
     },
     "metadata": {
      "needs_background": "light"
     },
     "output_type": "display_data"
    }
   ],
   "source": [
    "df['month'] = df['date'].dt.month\n",
    "df['dayofweek'] = df['date'].dt.dayofweek\n",
    "\n",
    "# Plot for month and day of week variables\n",
    "day_value_counts = (df['dayofweek'].value_counts()/df.shape[0])*100\n",
    "month_value_counts = (df['month'].value_counts()/df.shape[0])*100\n",
    "\n",
    "monthnames_ES = ['Enero','Febrero','Marzo','Abril','Mayo','Junio','Julio','Agosto','Septiembre','Octubre','Noviembre','Diciembre']\n",
    "daynames_ES = ['Lunes','Martes','Miércoles','Jueves','Viernes','Sábado','Domingo']\n",
    "\n",
    "fig, (ax1, ax2) = plt.subplots(nrows=2, ncols=1, figsize=(10,10))\n",
    "\n",
    "month_value_counts.plot(ax=ax1, rot=0, kind='bar', title='Mensajes Enviados según el Mes (%)', color='b')\n",
    "ax1.set_xticklabels(monthnames_ES)\n",
    "ax1.set_ylabel('% de Mensajes')\n",
    "ax1.set_xlabel('Mes')\n",
    "\n",
    "day_value_counts.plot(ax=ax2, rot=0, kind='bar', title='Mensajes Enviados según el Día de la Semana (%)', color='b')\n",
    "ax2.set_xticklabels(daynames_ES)\n",
    "ax2.set_ylabel('% de Mensajes')\n",
    "ax2.set_xlabel('Día de la Semana')\n",
    "\n",
    "plt.tight_layout()\n",
    "plt.show()\n",
    "#fig.savefig('grafico_barras_dia_mes.svg', format='svg')\n",
    "#fig.savefig('grafico_barras_dia_mes.png', format='png')"
   ]
  },
  {
   "cell_type": "code",
   "execution_count": 133,
   "metadata": {},
   "outputs": [
    {
     "name": "stdout",
     "output_type": "stream",
     "text": [
      "CPU times: user 45 s, sys: 2.35 s, total: 47.3 s\n",
      "Wall time: 47.3 s\n"
     ]
    }
   ],
   "source": [
    "%%time\n",
    "df['body'] = df['body'].apply(get_text_selectolax) # filter text from hltm emails"
   ]
  },
  {
   "cell_type": "code",
   "execution_count": 134,
   "metadata": {},
   "outputs": [],
   "source": [
    "# Extract sender and recipient email only\n",
    "df['sender_email'] = df.sender.str.extract(\"([a-zA-z0-9-.]+@[a-zA-z0-9-.]+)\")[0].str.lower()\n",
    "df['recipient_email'] = df.recipient.str.extract(\"([a-zA-z0-9-.]+@[a-zA-z0-9-.]+)\")[0].str.lower()"
   ]
  },
  {
   "cell_type": "code",
   "execution_count": 135,
   "metadata": {},
   "outputs": [
    {
     "name": "stdout",
     "output_type": "stream",
     "text": [
      "\n",
      "id                   0\n",
      "subject            100\n",
      "date                 0\n",
      "sender               0\n",
      "recipient          145\n",
      "body                 0\n",
      "month                0\n",
      "dayofweek            0\n",
      "sender_email         1\n",
      "recipient_email    422\n",
      "dtype: int64\n",
      "\n"
     ]
    }
   ],
   "source": [
    "print()\n",
    "print(df.isna().sum())\n",
    "print()"
   ]
  },
  {
   "cell_type": "code",
   "execution_count": 136,
   "metadata": {},
   "outputs": [
    {
     "name": "stdout",
     "output_type": "stream",
     "text": [
      "# msgs send by alumns: 14021\n",
      "# of alumns that send msgs: 3781\n"
     ]
    }
   ],
   "source": [
    "# eliminate 'no reply' and 'automatic' msgs\n",
    "df_noreply = df[~df.sender.str.contains('noreply@google.com').fillna(False)]\n",
    "df_noautom = df_noreply[~df_noreply.subject.str.contains('Respuesta automática').fillna(False)]\n",
    "\n",
    "# Separate msgs by type of sender\n",
    "send_by_alumns = df_noautom[df_noautom.sender.str.contains('@alum.up.edu.pe').fillna(False)]\n",
    "send_by_no_alumns = df_noautom[~df_noautom.sender.str.contains('@alum.up.edu.pe').fillna(False)]\n",
    "send_by_internals = df_noautom[df_noautom.sender.str.contains('@up.edu.pe').fillna(False)]\n",
    "\n",
    "print('# msgs send by alumns:', len(send_by_alumns))\n",
    "print('# of alumns that send msgs:', len(send_by_alumns.sender_email.unique()))"
   ]
  },
  {
   "cell_type": "code",
   "execution_count": 137,
   "metadata": {},
   "outputs": [
    {
     "data": {
      "text/plain": [
       "47246"
      ]
     },
     "execution_count": 137,
     "metadata": {},
     "output_type": "execute_result"
    }
   ],
   "source": [
    "len(send_by_internals)"
   ]
  },
  {
   "cell_type": "code",
   "execution_count": 138,
   "metadata": {},
   "outputs": [],
   "source": [
    "# Clean mails subject\n",
    "send_by_internals['subject'] = send_by_internals['subject'].apply(filterResponses)"
   ]
  },
  {
   "cell_type": "markdown",
   "metadata": {},
   "source": [
    "## Email pairing algorithm\n",
    "\n",
    "1. Extrae los mensajes enviados por alumno y los mensajes enviados por usuarios internos a cada alumno, respectivamente\n",
    "2. Extrae el asunto de cada mensaje del punto 1. Si el asunto del mensaje es igual al asunto enviado en el mensaje anterior aumenta el contador de mensajes con el mismo asunto.\n",
    "3. Utilizando en contador de mensajes con el mismo asunto, busca el asunto extraido en el punto 2 entre los emails enviados por usuarios internos a ese alumno.\n",
    "4. Genera una lista con el asunto, los datos del mail enviado por el alumno y la respuesta que recibió."
   ]
  },
  {
   "cell_type": "code",
   "execution_count": 139,
   "metadata": {},
   "outputs": [],
   "source": [
    "# Separate mails sended to each alumn\n",
    "dfs = [send_by_internals[send_by_internals.recipient_email == alumn] for alumn in send_by_alumns.sender_email.unique()]"
   ]
  },
  {
   "cell_type": "code",
   "execution_count": 140,
   "metadata": {
    "scrolled": true
   },
   "outputs": [
    {
     "name": "stderr",
     "output_type": "stream",
     "text": [
      "100%|██████████| 3781/3781 [00:57<00:00, 65.81it/s]\n"
     ]
    }
   ],
   "source": [
    "unique_alumns = send_by_alumns.sender_email.unique()\n",
    "n = len(unique_alumns)\n",
    "\n",
    "# Count causes to not being able to process a text\n",
    "resp_date_bigger_than_input_date = 0\n",
    "responses_with_same_subject_lower_than_counter = 0\n",
    "subject_equal_none = 0\n",
    "n_obs_less_than_0 = 0\n",
    "repited_id = 0\n",
    "\n",
    "for i, alumn in tqdm(enumerate(unique_alumns), total=n):\n",
    "    if len(dfs[i]) > 0:\n",
    "        temp_ = send_by_alumns[send_by_alumns.sender_email == alumn]\n",
    "        indexes = temp_.index\n",
    "        counter_subject = 0\n",
    "        subject_pre = 'initial_value'\n",
    "        \n",
    "        for index in indexes:\n",
    "            subject = filterResponses(temp_.subject[index])\n",
    "            if subject != None:\n",
    "                if subject_pre == subject:\n",
    "                    counter_subject += 1\n",
    "                else:\n",
    "                    counter_subject = 0\n",
    "                subject_pre = subject\n",
    "            \n",
    "                if len(dfs[i][dfs[i]['subject'] == subject]) > counter_subject:                    \n",
    "                    input_date = temp_.loc[index, 'date']\n",
    "                    resp_date = dfs[i]['date'][dfs[i]['subject'] == subject].iloc[counter_subject]\n",
    "                    if input_date < resp_date:\n",
    "                        input_id, sender, recipient, input_body = temp_.loc[index, ['id','sender','recipient','body']]\n",
    "                        resp_id, resp_body = dfs[i][['id','body']][dfs[i]['subject'] == subject].iloc[counter_subject]\n",
    "                        pair = np.array([[subject, sender, recipient, input_id, input_date, input_body, resp_id, resp_date, resp_body]],dtype=object)\n",
    "                        if i == 0:\n",
    "                            pairs = np.array(pair)\n",
    "                        elif all([not(pair[0,3] in pairs[:,3]), not(pair[0,6] in pairs[:,6])]):\n",
    "                            pairs = np.append(pairs, pair, axis=0)\n",
    "                        else:\n",
    "                            repited_id += 1\n",
    "                    else:\n",
    "                        resp_date_bigger_than_input_date += 1\n",
    "                else:\n",
    "                    responses_with_same_subject_lower_than_counter += 1\n",
    "            else:\n",
    "                subject_equal_none += 1\n",
    "    else:\n",
    "        n_obs_less_than_0 += 1"
   ]
  },
  {
   "cell_type": "markdown",
   "metadata": {},
   "source": [
    "# Format data"
   ]
  },
  {
   "cell_type": "code",
   "execution_count": 141,
   "metadata": {},
   "outputs": [],
   "source": [
    "total_unpaired_mails = repited_id+resp_date_bigger_than_input_date+responses_with_same_subject_lower_than_counter+subject_equal_none+n_obs_less_than_0"
   ]
  },
  {
   "cell_type": "code",
   "execution_count": 142,
   "metadata": {
    "scrolled": true
   },
   "outputs": [
    {
     "name": "stdout",
     "output_type": "stream",
     "text": [
      "\n",
      "Filtros del algoritmo de emparejamiento\n",
      "resp_date_bigger_than_input_date: 711\n",
      "subject_equal_none: 49\n",
      "repited_id: 28\n",
      "no hay motivo pero no lo empareje: 180\n",
      "--------------------------------------------------\n",
      "motivos de sar:\n",
      "el ultimo mensaje de la cadena del asunto no tuvo respuesta: 3906\n",
      "no le respondieron ni el primer mensaje: 398\n",
      "--------------------------------------------------\n",
      "# of mails in total: 107484\n",
      "# msgs send by alumns: 14021\n",
      "# of paired emails: 8749\n",
      "% de paired mails: 62.4 %\n",
      "total of unpaired mails:  5092\n",
      "% de unpaired mails: 36.32 %\n",
      "\n"
     ]
    }
   ],
   "source": [
    "print()\n",
    "print('Filtros del algoritmo de emparejamiento')\n",
    "print('resp_date_bigger_than_input_date:',resp_date_bigger_than_input_date)\n",
    "print('subject_equal_none:',subject_equal_none)\n",
    "print('repited_id:', repited_id)\n",
    "print('no hay motivo pero no lo empareje:',len(send_by_alumns) - total_unpaired_mails - len(pairs) )\n",
    "print('-'*50)\n",
    "print('motivos de sar:')\n",
    "print('el ultimo mensaje de la cadena del asunto no tuvo respuesta:',responses_with_same_subject_lower_than_counter)\n",
    "print('no le respondieron ni el primer mensaje:',n_obs_less_than_0)\n",
    "print('-'*50)\n",
    "print('# of mails in total:', len(mails))\n",
    "print('# msgs send by alumns:', len(send_by_alumns))\n",
    "print('# of paired emails:', len(pairs))\n",
    "print('% de paired mails:', round((len(pairs)/len(send_by_alumns))*100,2),'%')\n",
    "print('total of unpaired mails: ', total_unpaired_mails)\n",
    "print('% de unpaired mails:', round((total_unpaired_mails/len(send_by_alumns))*100,2),'%')\n",
    "print()"
   ]
  },
  {
   "cell_type": "code",
   "execution_count": 143,
   "metadata": {},
   "outputs": [],
   "source": [
    "# Load paired mails in a DataFrame\n",
    "columns_names = ['subject', 'sender', 'recipient', 'input_id', 'input_date', 'input_body', 'resp_id', 'resp_date', 'resp_body']\n",
    "paired_mails = pd.DataFrame(data=pairs, columns=columns_names)"
   ]
  },
  {
   "cell_type": "code",
   "execution_count": 144,
   "metadata": {},
   "outputs": [],
   "source": [
    "paired_mails['input_date'] = pd.to_datetime(paired_mails['input_date'], infer_datetime_format=True)\n",
    "paired_mails['resp_date'] = pd.to_datetime(paired_mails['resp_date'], infer_datetime_format=True)"
   ]
  },
  {
   "cell_type": "code",
   "execution_count": 145,
   "metadata": {},
   "outputs": [
    {
     "data": {
      "image/png": "[encoded data removed]",
      "text/plain": [
       "<Figure size 360x360 with 2 Axes>"
      ]
     },
     "metadata": {
      "needs_background": "light"
     },
     "output_type": "display_data"
    }
   ],
   "source": [
    "paired_mails['input_month'] = paired_mails['input_date'].dt.month\n",
    "paired_mails['input_dayofweek'] = paired_mails['input_date'].dt.dayofweek\n",
    "\n",
    "# Plot for month and day of week variables\n",
    "day_value_counts = (paired_mails['input_dayofweek'].value_counts()/df.shape[0])*100\n",
    "month_value_counts = (paired_mails['input_month'].value_counts()/df.shape[0])*100\n",
    "\n",
    "monthnames_ES = ['Enero','Febrero','Marzo','Abril','Mayo','Junio','Julio','Agosto','Septiembre','Octubre','Noviembre','Diciembre']\n",
    "daynames_ES = ['Lunes','Martes','Miércoles','Jueves','Viernes','Sábado','Domingo']\n",
    "\n",
    "fig, (ax1, ax2) = plt.subplots(nrows=2, ncols=1, figsize=(5,5))\n",
    "\n",
    "month_value_counts.plot(ax=ax1, rot=45, kind='bar', title='Mensajes Enviados según el Mes (%)', color='b')\n",
    "ax1.set_xticklabels(monthnames_ES)\n",
    "ax1.set_ylabel('% de Mensajes')\n",
    "ax1.set_xlabel('Mes')\n",
    "\n",
    "day_value_counts.plot(ax=ax2, rot=45, kind='bar', title='Mensajes Enviados según el Día de la Semana (%)', color='b')\n",
    "ax2.set_xticklabels(daynames_ES)\n",
    "ax2.set_ylabel('% de Mensajes')\n",
    "ax2.set_xlabel('Día de la Semana')\n",
    "\n",
    "plt.tight_layout()\n",
    "plt.show()\n",
    "#fig.savefig('grafico_barras_dia_mes.svg', format='svg')\n",
    "#fig.savefig('grafico_barras_dia_mes.png', format='png')"
   ]
  },
  {
   "cell_type": "code",
   "execution_count": 146,
   "metadata": {},
   "outputs": [
    {
     "data": {
      "image/png": "[encoded data removed]",
      "text/plain": [
       "<Figure size 1080x540 with 1 Axes>"
      ]
     },
     "metadata": {
      "needs_background": "light"
     },
     "output_type": "display_data"
    }
   ],
   "source": [
    "paired_mails['input_date'].hist(bins=51, figsize=(10*1.5,5*1.5), color='blue')\n",
    "\n",
    "plt.xlim(df['date'].min(), df['date'].max())\n",
    "plt.title('Histograma de la Fecha de Envío del Mensaje de Alumnos',fontsize=20)\n",
    "plt.ylabel('Número de Mensajes',fontsize=15)\n",
    "plt.xlabel('Año-Mes',fontsize=15)\n",
    "plt.yticks(fontsize=12.5)\n",
    "plt.xticks(fontsize=12.5)\n",
    "plt.savefig('hist_fecha_inputs.svg', dpi=300, format='svg')\n",
    "plt.show()"
   ]
  },
  {
   "cell_type": "code",
   "execution_count": 147,
   "metadata": {},
   "outputs": [
    {
     "ename": "NameError",
     "evalue": "name 'historyDirs' is not defined",
     "output_type": "error",
     "traceback": [
      "\u001b[0;31m---------------------------------------------------------------------------\u001b[0m",
      "\u001b[0;31mNameError\u001b[0m                                 Traceback (most recent call last)",
      "\u001b[0;32m<ipython-input-147-c5e2497b2875>\u001b[0m in \u001b[0;36m<module>\u001b[0;34m\u001b[0m\n\u001b[1;32m      1\u001b[0m \u001b[0mfig\u001b[0m\u001b[0;34m,\u001b[0m \u001b[0;34m(\u001b[0m\u001b[0max1\u001b[0m\u001b[0;34m,\u001b[0m \u001b[0max2\u001b[0m\u001b[0;34m)\u001b[0m \u001b[0;34m=\u001b[0m \u001b[0mplt\u001b[0m\u001b[0;34m.\u001b[0m\u001b[0msubplots\u001b[0m\u001b[0;34m(\u001b[0m\u001b[0;36m1\u001b[0m\u001b[0;34m,\u001b[0m\u001b[0;36m2\u001b[0m\u001b[0;34m,\u001b[0m \u001b[0mfigsize\u001b[0m\u001b[0;34m=\u001b[0m\u001b[0;34m(\u001b[0m\u001b[0;36m15\u001b[0m\u001b[0;34m*\u001b[0m\u001b[0;36m1.25\u001b[0m\u001b[0;34m,\u001b[0m\u001b[0;36m5\u001b[0m\u001b[0;34m*\u001b[0m\u001b[0;36m1.25\u001b[0m\u001b[0;34m)\u001b[0m\u001b[0;34m)\u001b[0m\u001b[0;34m\u001b[0m\u001b[0m\n\u001b[1;32m      2\u001b[0m \u001b[0;34m\u001b[0m\u001b[0m\n\u001b[0;32m----> 3\u001b[0;31m \u001b[0;32mfor\u001b[0m \u001b[0mhistoryDir\u001b[0m \u001b[0;32min\u001b[0m \u001b[0mhistoryDirs\u001b[0m\u001b[0;34m:\u001b[0m\u001b[0;34m\u001b[0m\u001b[0m\n\u001b[0m\u001b[1;32m      4\u001b[0m     \u001b[0mparams\u001b[0m \u001b[0;34m=\u001b[0m \u001b[0mhistoryDir\u001b[0m\u001b[0;34m.\u001b[0m\u001b[0mreplace\u001b[0m\u001b[0;34m(\u001b[0m\u001b[0;34m'.pk'\u001b[0m\u001b[0;34m,\u001b[0m\u001b[0;34m''\u001b[0m\u001b[0;34m)\u001b[0m\u001b[0;34m.\u001b[0m\u001b[0msplit\u001b[0m\u001b[0;34m(\u001b[0m\u001b[0;34m'_'\u001b[0m\u001b[0;34m)\u001b[0m\u001b[0;34m[\u001b[0m\u001b[0;34m-\u001b[0m\u001b[0;36m4\u001b[0m\u001b[0;34m:\u001b[0m\u001b[0;34m]\u001b[0m\u001b[0;34m\u001b[0m\u001b[0m\n\u001b[1;32m      5\u001b[0m     \u001b[0;32mtry\u001b[0m\u001b[0;34m:\u001b[0m\u001b[0;34m\u001b[0m\u001b[0m\n",
      "\u001b[0;31mNameError\u001b[0m: name 'historyDirs' is not defined"
     ]
    },
    {
     "data": {
      "image/png": "[encoded data removed]",
      "text/plain": [
       "<Figure size 1350x450 with 2 Axes>"
      ]
     },
     "metadata": {
      "needs_background": "light"
     },
     "output_type": "display_data"
    }
   ],
   "source": [
    "fig, (ax1, ax2) = plt.subplots(1,2, figsize=(15*1.25,5*1.25))\n",
    "\n",
    "for historyDir in historyDirs:\n",
    "    params = historyDir.replace('.pk','').split('_')[-4:]\n",
    "    try:\n",
    "        history = pickle.load(open(historyDir,'rb'))\n",
    "        ax1.plot(range(len(history['loss'])), history['loss'], linewidth=5)\n",
    "        ax1.grid(True)\n",
    "        ax1.set_ylabel('Entropía Cruzada (Error)',fontsize=20)\n",
    "        ax1.set_xlabel('Época',fontsize=20)\n",
    "        ax1.set_title('Entrenamiento',fontsize=20)\n",
    "        ax1.set_xlim(-0.5, 100)\n",
    "        ax1.set\n",
    "        ax2.plot(range(len(history['val_loss'])), history['val_loss'], linewidth=5)\n",
    "        ax2.grid(True)\n",
    "        ax2.set_xlabel('Época',fontsize=20)\n",
    "        ax2.set_title('Validación',fontsize=20)\n",
    "        plt.suptitle('Curvas de Error',fontsize=25)\n",
    "        ax2.set_xlim(-0.5, 100)\n",
    "    except:\n",
    "        pass\n",
    "fig.savefig('curvas_error.svg', dpi=300, format='svg')"
   ]
  },
  {
   "cell_type": "code",
   "execution_count": 148,
   "metadata": {},
   "outputs": [
    {
     "data": {
      "image/png": "[encoded data removed]",
      "text/plain": [
       "<Figure size 720x360 with 1 Axes>"
      ]
     },
     "metadata": {
      "needs_background": "light"
     },
     "output_type": "display_data"
    }
   ],
   "source": [
    "paired_mails['resp_date'].hist(bins=51, figsize=(10,5), color='blue')\n",
    "plt.xlim(df['date'].min(), df['date'].max())\n",
    "plt.title('Histograma de la Fecha de Envío del Mensaje hacia Alumnos')\n",
    "plt.ylabel('Número de Mensajes')\n",
    "plt.xlabel('Año-Mes')\n",
    "plt.show()\n",
    "#fig.savefig('hist_fecha_resps.svg', format='svg')"
   ]
  },
  {
   "cell_type": "code",
   "execution_count": 149,
   "metadata": {},
   "outputs": [],
   "source": [
    "# Create features to detect possible errors\n",
    "paired_mails['resp_time'] = paired_mails['resp_date'] - paired_mails['input_date']\n",
    "paired_mails['input_body_len'] = paired_mails['input_body'].apply(len)\n",
    "paired_mails['resp_body_len'] = paired_mails['resp_body'].apply(len)"
   ]
  },
  {
   "cell_type": "code",
   "execution_count": 150,
   "metadata": {},
   "outputs": [
    {
     "name": "stdout",
     "output_type": "stream",
     "text": [
      "\n",
      "count       8749.0\n",
      "mean        1551.0\n",
      "std        62454.0\n",
      "min            0.0\n",
      "1%            75.0\n",
      "5%           122.0\n",
      "10%          153.0\n",
      "25%          225.0\n",
      "50%          353.0\n",
      "75%          618.0\n",
      "80%          742.0\n",
      "85%          982.0\n",
      "90%         1361.0\n",
      "98%         3187.0\n",
      "99%         4055.0\n",
      "max      4638334.0\n",
      "Name: input_body_len, dtype: float64\n",
      "\n"
     ]
    }
   ],
   "source": [
    "# Calculate input messages lenghts\n",
    "input_len_stats = paired_mails['input_body_len'].describe([0.01, 0.05, 0.1, 0.25, 0.5, 0.75, 0.8, 0.85, 0.9, 0.98, 0.99]).round()\n",
    "print()\n",
    "print(input_len_stats)\n",
    "print()"
   ]
  },
  {
   "cell_type": "code",
   "execution_count": 151,
   "metadata": {},
   "outputs": [
    {
     "name": "stdout",
     "output_type": "stream",
     "text": [
      "\n",
      "count     8749.0\n",
      "mean      1406.0\n",
      "std       1029.0\n",
      "min         12.0\n",
      "5%         608.0\n",
      "10%        701.0\n",
      "25%        845.0\n",
      "50%       1076.0\n",
      "75%       1615.0\n",
      "80%       1826.0\n",
      "85%       2053.0\n",
      "90%       2427.0\n",
      "98%       4592.0\n",
      "99%       5584.0\n",
      "max      16156.0\n",
      "Name: resp_body_len, dtype: float64\n",
      "\n"
     ]
    }
   ],
   "source": [
    "# Calculate response messages lenghts\n",
    "resp_len_stats =  paired_mails['resp_body_len'].describe([0.05, 0.1, 0.25, 0.5, 0.75, 0.8, 0.85, 0.9, 0.98, 0.99]).round()\n",
    "print()\n",
    "print(resp_len_stats)\n",
    "print()"
   ]
  },
  {
   "cell_type": "code",
   "execution_count": 152,
   "metadata": {},
   "outputs": [
    {
     "name": "stdout",
     "output_type": "stream",
     "text": [
      "\n",
      "count                       8749\n",
      "mean      3 days 11:04:02.944565\n",
      "std      26 days 00:35:37.054634\n",
      "min              0 days 00:00:25\n",
      "5%               0 days 00:03:57\n",
      "10%              0 days 00:07:04\n",
      "25%              0 days 00:27:33\n",
      "50%              0 days 05:49:28\n",
      "75%              1 days 01:20:34\n",
      "80%              1 days 20:49:16\n",
      "85%       2 days 17:37:08.800000\n",
      "90%       4 days 05:23:37.799999\n",
      "98%      20 days 19:11:46.879999\n",
      "99%      36 days 14:59:36.480000\n",
      "max            982 days 18:54:12\n",
      "Name: resp_time, dtype: object\n",
      "\n"
     ]
    }
   ],
   "source": [
    "# Response time analysis\n",
    "resp_time_stats = paired_mails['resp_time'].describe([0.05, 0.1, 0.25, 0.5, 0.75, 0.8, 0.85, 0.9, 0.98, 0.99])\n",
    "print()\n",
    "print(resp_time_stats)\n",
    "print()"
   ]
  },
  {
   "cell_type": "code",
   "execution_count": 153,
   "metadata": {},
   "outputs": [],
   "source": [
    "# Filter errors using response time\n",
    "paired_mails = paired_mails[paired_mails['resp_time'] <= paired_mails['resp_time'].sort_values().iloc[-65]]"
   ]
  },
  {
   "cell_type": "code",
   "execution_count": 154,
   "metadata": {},
   "outputs": [],
   "source": [
    "# Filter errors using messages body lenghts\n",
    "paired_mails = paired_mails[paired_mails['input_body_len'] <= paired_mails['input_body_len'].sort_values().iloc[-3]]\n",
    "# not errors caught using resp_body_len"
   ]
  },
  {
   "cell_type": "code",
   "execution_count": 155,
   "metadata": {
    "scrolled": true
   },
   "outputs": [
    {
     "name": "stdout",
     "output_type": "stream",
     "text": [
      "\n",
      "count                       8683\n",
      "mean      1 days 16:19:46.557065\n",
      "std       4 days 13:22:09.718730\n",
      "min              0 days 00:00:25\n",
      "5%               0 days 00:03:55\n",
      "10%       0 days 00:06:59.200000\n",
      "25%       0 days 00:26:52.500000\n",
      "50%              0 days 05:31:06\n",
      "75%              1 days 00:37:58\n",
      "80%              1 days 19:33:16\n",
      "85%       2 days 16:04:25.199999\n",
      "90%       3 days 22:25:13.800000\n",
      "98%      16 days 22:32:56.960000\n",
      "99%      23 days 17:43:41.480000\n",
      "max             65 days 22:04:33\n",
      "Name: resp_time, dtype: object\n",
      "\n"
     ]
    }
   ],
   "source": [
    "# Response time analysis\n",
    "resp_time_stats = paired_mails['resp_time'].describe([0.05, 0.1, 0.25, 0.5, 0.75, 0.8, 0.85, 0.9, 0.98, 0.99])\n",
    "print()\n",
    "print(resp_time_stats)\n",
    "print()"
   ]
  },
  {
   "cell_type": "code",
   "execution_count": 163,
   "metadata": {},
   "outputs": [],
   "source": [
    "paired_mails['input_body'] = paired_mails['input_body'].apply(filterMail)\n",
    "paired_mails['resp_body'] = paired_mails['resp_body'].apply(filterMail)"
   ]
  },
  {
   "cell_type": "code",
   "execution_count": 164,
   "metadata": {},
   "outputs": [],
   "source": [
    "paired_mails['resp_body'] = paired_mails['resp_body'].apply(filterFirm)"
   ]
  },
  {
   "cell_type": "code",
   "execution_count": 165,
   "metadata": {},
   "outputs": [],
   "source": [
    "sentence_pairs = paired_mails[['input_body','resp_body']]"
   ]
  },
  {
   "cell_type": "code",
   "execution_count": 166,
   "metadata": {},
   "outputs": [],
   "source": [
    "sentence_pairs.to_csv('output/data_cleaning_nlp/q_and_a.txt', sep='\\t', index=False, header=False)"
   ]
  },
  {
   "cell_type": "code",
   "execution_count": null,
   "metadata": {},
   "outputs": [],
   "source": [
    "paired_mails['input_body'] = paired_mails['input_body'].apply(lambda x: regex.sub(pattern='[`<@!*>-]', repl='', string=x))\n",
    "paired_mails['resp_body'] = paired_mails['resp_body'].apply(lambda x: regex.sub(pattern='[`<@!*>-]', repl='', string=x))"
   ]
  },
  {
   "cell_type": "code",
   "execution_count": null,
   "metadata": {},
   "outputs": [],
   "source": [
    "paired_mails.to_csv('output/data_cleaning_nlp/paired_emails.csv', encoding='utf-8', index=False)"
   ]
  },
  {
   "cell_type": "markdown",
   "metadata": {},
   "source": [
    "## NLP"
   ]
  },
  {
   "cell_type": "code",
   "execution_count": null,
   "metadata": {},
   "outputs": [],
   "source": [
    "## Tokenization using NLTK\n",
    "# Define input (x) and target (y) sequences variables\n",
    "x = [word_tokenize(msg, language='spanish') for msg in paired_mails['input_body'].values]\n",
    "y = [word_tokenize(msg, language='spanish') for msg in paired_mails['resp_body'].values]"
   ]
  },
  {
   "cell_type": "code",
   "execution_count": null,
   "metadata": {},
   "outputs": [],
   "source": [
    "# Variables to store lenghts \n",
    "hist_len_inp = []\n",
    "hist_len_out = []\n",
    "\n",
    "maxlen_inp = 0\n",
    "maxlen_out = 0\n",
    "\n",
    "# Define word counter\n",
    "word_freqs_inp = collections.Counter()\n",
    "word_freqs_out = collections.Counter()\n",
    "num_recs = 0\n",
    "\n",
    "for inp, out in zip(x, y):\n",
    "    # Get input and target sequence lenght\n",
    "    hist_len_inp.append(len(inp))\n",
    "    hist_len_out.append(len(out))\n",
    "    \n",
    "    # Calculate max sequence lenght\n",
    "    if len(inp) > maxlen_inp: maxlen_inp = len(inp)\n",
    "    if len(out) > maxlen_out: maxlen_out = len(out)\n",
    "        \n",
    "    # Count unique words\n",
    "    for words in inp:\n",
    "        word_freqs_inp[words] += 1\n",
    "    \n",
    "    for words in out:\n",
    "        word_freqs_out[words] += 1\n",
    "\n",
    "    num_recs += 1\n",
    "\n",
    "print()\n",
    "print(\"maxlen input:\", maxlen_inp)\n",
    "print(\"maxlen output:\", maxlen_out)\n",
    "print(\"features (words) - input:\", len(word_freqs_inp))\n",
    "print(\"features (words) - output:\", len(word_freqs_out))\n",
    "print(\"number of records:\", num_recs)\n",
    "print()"
   ]
  },
  {
   "cell_type": "code",
   "execution_count": null,
   "metadata": {
    "scrolled": true
   },
   "outputs": [],
   "source": [
    "plt.hist(hist_len_inp, bins =100)\n",
    "plt.xlim((0,850))\n",
    "plt.xticks(range(0,800,100))\n",
    "plt.title('input_len')\n",
    "plt.show()"
   ]
  },
  {
   "cell_type": "code",
   "execution_count": null,
   "metadata": {},
   "outputs": [],
   "source": [
    "plt.hist(hist_len_out, bins=100)\n",
    "plt.xlim((0,850))\n",
    "plt.xticks(range(0,800,100))\n",
    "plt.title('output_len')\n",
    "plt.show()"
   ]
  },
  {
   "cell_type": "code",
   "execution_count": null,
   "metadata": {},
   "outputs": [],
   "source": [
    "pk.dump(word_freqs_inp, open('output/data_cleaning_nlp/word_freqs_input.pk', 'wb'))\n",
    "pk.dump(word_freqs_out, open('output/data_cleaning_nlp/word_freqs_output.pk', 'wb'))\n",
    "pk.dump(x, open('output/data_cleaning_nlp/input_data.pk', 'wb'))\n",
    "pk.dump(y, open('output/data_cleaning_nlp/target_data.pk', 'wb'))"
   ]
  }
 ],
 "metadata": {
  "kernelspec": {
   "display_name": "Python 3 (chatbot_env)",
   "language": "python",
   "name": "chatbot_env"
  },
  "language_info": {
   "codemirror_mode": {
    "name": "ipython",
    "version": 3
   },
   "file_extension": ".py",
   "mimetype": "text/x-python",
   "name": "python",
   "nbconvert_exporter": "python",
   "pygments_lexer": "ipython3",
   "version": "3.6.6"
  }
 },
 "nbformat": 4,
 "nbformat_minor": 2
}
